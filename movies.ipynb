{
 "cells": [
  {
   "cell_type": "code",
   "execution_count": null,
   "id": "89a10d3c",
   "metadata": {
    "vscode": {
     "languageId": "plaintext"
    }
   },
   "outputs": [],
   "source": [
    "1. Sắp xếp các bộ phim theo ngày phát hành giảm dần rồi lưu ra một file mới"
   ]
  },
  {
   "cell_type": "markdown",
   "id": "e9479d43",
   "metadata": {},
   "source": [
    "import pandas as pd\n",
    "from datetime import datetime\n",
    "\n",
    "pd.set_option('display.float_format', '{:,.0f}'.format)\n",
    "df = pd.read_csv(\n",
    "    'tmdb-movies.csv',\n",
    "    delimiter=',',\n",
    "    quotechar='\"',\n",
    "    skipinitialspace=True,\n",
    "    skip_blank_lines=True,\n",
    "    na_values=['', 'NULL', 'null']\n",
    ")\n",
    "\n",
    "df['release_date'] = pd.to_datetime(df['release_date'], format='%m/%d/%y', errors='coerce') \n",
    "current_year = datetime.now().year\n",
    "df.loc[df['release_date'].dt.year > current_year, 'release_date'] -= pd.DateOffset(years=100)\n",
    "df_sorted = df.sort_values(by='release_date', ascending=False)\n",
    "df_sorted.to_csv('sorted_realease_date.csv', index=False)\n",
    "df_sorted.head(5)"
   ]
  },
  {
   "cell_type": "code",
   "execution_count": null,
   "id": "6329d9bf",
   "metadata": {
    "vscode": {
     "languageId": "plaintext"
    }
   },
   "outputs": [],
   "source": [
    "2. Lọc ra các bộ phim có đánh giá trung bình trên 7.5 rồi lưu ra một file mới"
   ]
  },
  {
   "cell_type": "markdown",
   "id": "7e90436f",
   "metadata": {},
   "source": [
    "import pandas as pd\n",
    "from datetime import datetime\n",
    "\n",
    "pd.set_option('display.float_format', '{:,.0f}'.format)\n",
    "df = pd.read_csv(\n",
    "    'tmdb-movies.csv',\n",
    "    delimiter=',',\n",
    "    quotechar='\"',\n",
    "    skipinitialspace=True,\n",
    "    skip_blank_lines=True,\n",
    "    na_values=['', 'NULL', 'null']\n",
    ")\n",
    "\n",
    "df_filtered = df[df['vote_average'] > 7.5]\n",
    "df_filtered.to_csv('vote_average.csv', index=False)\n",
    "df_filtered.head() "
   ]
  },
  {
   "cell_type": "code",
   "execution_count": null,
   "id": "4e7a0bb4",
   "metadata": {
    "vscode": {
     "languageId": "plaintext"
    }
   },
   "outputs": [],
   "source": [
    "3. Tìm ra phim nào có doanh thu cao nhất và doanh thu thấp nhất"
   ]
  },
  {
   "cell_type": "markdown",
   "id": "aff9a247",
   "metadata": {},
   "source": [
    "import pandas as pd\n",
    "from datetime import datetime\n",
    "\n",
    "# pd.set_option('display.float_format', '{:,.0f}'.format)\n",
    "df = pd.read_csv(\n",
    "    'tmdb-movies.csv',\n",
    "    delimiter=',',\n",
    "    quotechar='\"',\n",
    "    skipinitialspace=True,\n",
    "    skip_blank_lines=True,\n",
    "    na_values=['', 'NULL', 'null']\n",
    ")\n",
    "max_revenue = df.loc[df['revenue_adj'].idxmax()]\n",
    "min_revenue = df.loc[df['revenue_adj'].idxmin()]\n",
    "print(\"Movie with highest revenue:\")\n",
    "print(max_revenue)\n",
    "print(\"\\nMovie with lowest revenue:\")\n",
    "print(min_revenue)"
   ]
  },
  {
   "cell_type": "code",
   "execution_count": null,
   "id": "d4d0d313",
   "metadata": {
    "vscode": {
     "languageId": "plaintext"
    }
   },
   "outputs": [],
   "source": [
    "4. Tính tổng doanh thu tất cả các bộ phim"
   ]
  },
  {
   "cell_type": "markdown",
   "id": "c3d83702",
   "metadata": {},
   "source": [
    "import pandas as pd\n",
    "from datetime import datetime\n",
    "\n",
    "# pd.set_option('display.float_format', '{:,.0f}'.format)\n",
    "df = pd.read_csv(\n",
    "    'tmdb-movies.csv',\n",
    "    delimiter=',',\n",
    "    quotechar='\"',\n",
    "    skipinitialspace=True,\n",
    "    skip_blank_lines=True,\n",
    "    na_values=['', 'NULL', 'null']\n",
    ")\n",
    "total = df['revenue_adj'].sum()\n",
    "print(f\"\\nTotal adjusted revenue of all movies: {total:,.2f}\")"
   ]
  },
  {
   "cell_type": "code",
   "execution_count": null,
   "id": "4e27f413",
   "metadata": {
    "vscode": {
     "languageId": "plaintext"
    }
   },
   "outputs": [],
   "source": [
    "5. Top 10 bộ phim đem về lợi nhuận cao nhất"
   ]
  },
  {
   "cell_type": "markdown",
   "id": "9ca3e0a9",
   "metadata": {},
   "source": [
    "import pandas as pd\n",
    "\n",
    "pd.set_option('display.float_format', '{:,.0f}'.format)\n",
    "df = pd.read_csv(\n",
    "    'tmdb-movies.csv',\n",
    "    delimiter=',',\n",
    "    quotechar='\"',\n",
    "    skipinitialspace=True,\n",
    "    skip_blank_lines=True,\n",
    "    na_values=['', 'NULL', 'null']\n",
    ")\n",
    "\n",
    "df.sort_values(by='revenue_adj', ascending=False).head(10)"
   ]
  },
  {
   "cell_type": "code",
   "execution_count": null,
   "id": "e934ff33",
   "metadata": {
    "vscode": {
     "languageId": "plaintext"
    }
   },
   "outputs": [],
   "source": [
    "6. Đạo diễn nào có nhiều bộ phim nhất và diễn viên nào đóng nhiều phim nhất"
   ]
  },
  {
   "cell_type": "markdown",
   "id": "9947b957",
   "metadata": {},
   "source": [
    "import pandas as pd\n",
    "\n",
    "pd.set_option('display.float_format', '{:,.0f}'.format)\n",
    "df = pd.read_csv(\n",
    "    'tmdb-movies.csv',\n",
    "    delimiter=',',\n",
    "    quotechar='\"',\n",
    "    skipinitialspace=True,\n",
    "    skip_blank_lines=True,\n",
    "    na_values=['', 'NULL', 'null']\n",
    ")\n",
    "\n",
    "director_counts = df['director'].value_counts()\n",
    "cast_counts = df['cast'].value_counts()\n",
    "top_director = director_counts.idxmax()\n",
    "top_cast = cast_counts.idxmax()\n",
    "print(\"Director with most movies:\", top_director, f\"({director_counts.max()} movies)\")\n",
    "print(\"Actor/Actress with most movies:\", top_cast, f\"({cast_counts.max()} movies)\")"
   ]
  },
  {
   "cell_type": "code",
   "execution_count": null,
   "id": "d9dc3d30",
   "metadata": {
    "vscode": {
     "languageId": "plaintext"
    }
   },
   "outputs": [],
   "source": [
    "7. Thống kê số lượng phim theo các thể loại. Ví dụ có bao nhiêu phim thuộc thể loại Action, bao nhiêu thuộc thể loại Family, …."
   ]
  },
  {
   "cell_type": "markdown",
   "id": "be7def99",
   "metadata": {},
   "source": [
    "import pandas as pd\n",
    "\n",
    "pd.set_option('display.float_format', '{:,.0f}'.format)\n",
    "df = pd.read_csv(\n",
    "    'tmdb-movies.csv',\n",
    "    delimiter=',',\n",
    "    quotechar='\"',\n",
    "    skipinitialspace=True,\n",
    "    skip_blank_lines=True,\n",
    "    na_values=['', 'NULL', 'null']\n",
    ")\n",
    "\n",
    "all_genres = df['genres'].dropna().str.split('|').explode()\n",
    "genre_counts = all_genres.value_counts()\n",
    "print(genre_counts)"
   ]
  }
 ],
 "metadata": {
  "language_info": {
   "name": "python"
  }
 },
 "nbformat": 4,
 "nbformat_minor": 5
}
